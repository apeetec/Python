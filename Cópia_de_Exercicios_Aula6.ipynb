{
  "nbformat": 4,
  "nbformat_minor": 0,
  "metadata": {
    "colab": {
      "provenance": [],
      "include_colab_link": true
    },
    "kernelspec": {
      "name": "python3",
      "display_name": "Python 3"
    },
    "language_info": {
      "name": "python"
    }
  },
  "cells": [
    {
      "cell_type": "markdown",
      "metadata": {
        "id": "view-in-github",
        "colab_type": "text"
      },
      "source": [
        "<a href=\"https://colab.research.google.com/github/apeetec/alphabusiness/blob/main/C%C3%B3pia_de_Exercicios_Aula6.ipynb\" target=\"_parent\"><img src=\"https://colab.research.google.com/assets/colab-badge.svg\" alt=\"Open In Colab\"/></a>"
      ]
    },
    {
      "cell_type": "markdown",
      "source": [
        "1 - Escreva um programa que peça ao usuário para inserir três comprimentos de lados e determine se esses lados podem formar um triângulo equilátero, isósceles ou escaleno."
      ],
      "metadata": {
        "id": "NDOzBbEWSHXI"
      }
    },
    {
      "cell_type": "markdown",
      "source": [
        "2 - Escreva uma função chamada calcula_imc. Ela irá calcular o IMC com base no peso e altura inseridos pelo usuário. Depois de exibir o IMC, o programa classifica o resultado de acordo com as faixas padrão de IMC:\n",
        "- Abaixo de 18.5: abaixo do peso.\n",
        "- 18.5 a 24.9: peso normal.\n",
        "- 25 a 29.9: sobrepeso.\n",
        "- Acima de 30: obeso."
      ],
      "metadata": {
        "id": "qw_2E6nBSdAq"
      }
    },
    {
      "cell_type": "markdown",
      "source": [
        "3 - Você está desenvolvendo um sistema de login simples para um site. Os usuários devem fornecer um nome de usuário e uma senha. O sistema deve verificar se as credenciais fornecidas estão corretas. Considere que o nome de usuário correto é \"admin\" e a senha correta é \"password123\". Se as credenciais estiverem corretas, exiba \"Login bem-sucedido\". Caso contrário, exiba \"Nome de usuário ou senha incorretos\"."
      ],
      "metadata": {
        "id": "wscVsp8TVYlH"
      }
    },
    {
      "cell_type": "markdown",
      "source": [
        "4 - Uma loja online oferece um desconto especial para clientes que cumprem dois critérios: a compra deve ser superior a R$200,00 e o cliente deve ser membro do programa de fidelidade. Escreva um programa que solicite o valor da compra e se o cliente é membro do programa de fidelidade. Se ambas as condições forem verdadeiras, exiba \"Desconto aplicado\". Caso contrário, exiba \"Desconto não aplicado\"."
      ],
      "metadata": {
        "id": "4yMsAkfbXH1e"
      }
    },
    {
      "cell_type": "markdown",
      "source": [
        "5 - Você está desenvolvendo uma calculadora simples que pode realizar as operações de adição, subtração, multiplicação e divisão. Escreva uma função chamada calculadora que recebe três argumentos: numero1 (float), numero2 (float) e operacao (string). A função deve retornar o resultado da operação especificada. As operações suportadas são: 'adição', 'subtração', 'multiplicação' e 'divisão'. Se a operação não for reconhecida, a função deve retornar uma mensagem de erro."
      ],
      "metadata": {
        "id": "Zs-IGZ0MXuYW"
      }
    },
    {
      "cell_type": "markdown",
      "source": [
        "6 - Você está tentando entrar para um time de basquete e precisa responder um questionário que pergunta:\n",
        "- Sua idade\n",
        "- Sua altura\n",
        "- Seu peso\n",
        "- E sua experiência em anos jogando basquete\n",
        "\n",
        "Com base nas suas respostas, o sistema dirá se você pode participar ou não. As regras para participação são:\n",
        "- A idade deve ser maior ou igual a 18 anos\n",
        "- A altura deve ser maior ou igual a 1,70 metros\n",
        "- O calcumo do seu imc deve estar dentro da faixa 'peso normal'\n",
        "- E a experiência deve ser de pelo menos 2 anos.\n",
        "\n",
        "Escreva uma função chamada pode_participar que as respostas do usuário como argumentos e retorna \"Pode participar\" se todas as condições forem satisfeitas e \"Não pode participar\" caso contrário."
      ],
      "metadata": {
        "id": "vSNy9YRQganV"
      }
    }
  ]
}