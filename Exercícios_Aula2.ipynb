{
  "nbformat": 4,
  "nbformat_minor": 0,
  "metadata": {
    "colab": {
      "provenance": [],
      "include_colab_link": true
    },
    "kernelspec": {
      "name": "python3",
      "display_name": "Python 3"
    },
    "language_info": {
      "name": "python"
    }
  },
  "cells": [
    {
      "cell_type": "markdown",
      "metadata": {
        "id": "view-in-github",
        "colab_type": "text"
      },
      "source": [
        "<a href=\"https://colab.research.google.com/github/apeetec/Python/blob/main/Exerc%C3%ADcios_Aula2.ipynb\" target=\"_parent\"><img src=\"https://colab.research.google.com/assets/colab-badge.svg\" alt=\"Open In Colab\"/></a>"
      ]
    },
    {
      "cell_type": "markdown",
      "source": [
        "1 - Some os valores 7 e 5 e armazene o resultado em uma variável chamada resultado. Imprima o valor da variável."
      ],
      "metadata": {
        "id": "1h0pb1RRMWgQ"
      }
    },
    {
      "cell_type": "code",
      "source": [
        "num1 = 7\n",
        "num2 = 5\n",
        "resultado = num1 + num2\n",
        "\n",
        "print(\"O resultado da some é:\", resultado)"
      ],
      "metadata": {
        "id": "SM1tP_6U18-O"
      },
      "execution_count": null,
      "outputs": []
    },
    {
      "cell_type": "markdown",
      "source": [
        "2 - Peça ao usuário para inserir dois números inteiros e mostre a soma desses números."
      ],
      "metadata": {
        "id": "PjNdmPiDMhf_"
      }
    },
    {
      "cell_type": "code",
      "source": [
        "num1 = int(input('Insira um numero: '))\n",
        "num2 = int(input('Insiraum numero: '))\n",
        "\n",
        "soma = num1 + num2\n",
        "\n",
        "print(f'A soma do numeor {num1} e do numero {num2} é: {soma}')"
      ],
      "metadata": {
        "colab": {
          "base_uri": "https://localhost:8080/"
        },
        "id": "odcBTDSD2xy9",
        "outputId": "62197b69-fd9d-4530-9ded-ec18e908c6da"
      },
      "execution_count": null,
      "outputs": [
        {
          "output_type": "stream",
          "name": "stdout",
          "text": [
            "Insira um numero: 8\n",
            "Insiraum numero: 5\n",
            "A soma do numeor 8 e do numero 5 é: 13\n"
          ]
        }
      ]
    },
    {
      "cell_type": "markdown",
      "source": [
        "3 - Peça ao usuário para inserir sua idade em anos e converta para dias (considerando anos de 365 dias).O programa deve imprimir uma mensagem com a resposta"
      ],
      "metadata": {
        "id": "sDb4_jE2MpHx"
      }
    },
    {
      "cell_type": "code",
      "source": [
        "x = input ('Insira sua idade: ')\n",
        "x = int(x)\n",
        "idade = x*365\n",
        "print (f'Resultado: {idade} dias')"
      ],
      "metadata": {
        "colab": {
          "base_uri": "https://localhost:8080/"
        },
        "id": "90jR_HJJ3-kV",
        "outputId": "2df46294-19d9-4f6f-f93a-bafdfa1e99d0"
      },
      "execution_count": null,
      "outputs": [
        {
          "output_type": "stream",
          "name": "stdout",
          "text": [
            "Insira sua idade: 88\n",
            "Resultado: 32120 dias\n"
          ]
        }
      ]
    },
    {
      "cell_type": "markdown",
      "source": [
        "4 - Resolva o bug desse programa"
      ],
      "metadata": {
        "id": "nb6WFzVWPfp_"
      }
    },
    {
      "cell_type": "code",
      "source": [
        "# Solicita ao usuário um número inteiro\n",
        "numero1 = int(input(\"Digite um número inteiro: \"))\n",
        "\n",
        "# Solicita ao usuário outro número inteiro\n",
        "numero2 = int(input(\"Digite outro número inteiro: \"))\n",
        "\n",
        "# Calcula a soma dos números\n",
        "soma = numero1 + numero2\n",
        "\n",
        "# Exibe o resultado\n",
        "print(\"A soma dos números é: \", soma)"
      ],
      "metadata": {
        "id": "E3duTW6eOQs6",
        "colab": {
          "base_uri": "https://localhost:8080/"
        },
        "outputId": "ea5d49a7-b799-46b1-fc9d-cb17b5cd7b72"
      },
      "execution_count": null,
      "outputs": [
        {
          "output_type": "stream",
          "name": "stdout",
          "text": [
            "Digite um número inteiro: 8\n",
            "Digite outro número inteiro: 5\n",
            "A soma dos números é:  13\n"
          ]
        }
      ]
    },
    {
      "cell_type": "markdown",
      "source": [
        "5 - Crie um programa Python que solicite ao usuário dois números inteiros, calcule a média desses dois números e exiba o resultado."
      ],
      "metadata": {
        "id": "Okrf5GKlxMhv"
      }
    },
    {
      "cell_type": "code",
      "source": [
        "print('Vamos calcular a média!')\n",
        "# Pagando o valor com o usuário\n",
        "x = int(input('Digite o primeiro número '))\n",
        "y = int(input('Digite o segundo número '))\n",
        "\n",
        "#calculando a média de 2 números\n",
        "media = (x+y)/2\n",
        "\n",
        "#mostrando o resultado\n",
        "\n",
        "print(f'A média de {x} e {y} é {media}')"
      ],
      "metadata": {
        "colab": {
          "base_uri": "https://localhost:8080/"
        },
        "id": "A-_Wxruv5W7-",
        "outputId": "7574ebf6-99a3-468f-dc3a-156df2a95274"
      },
      "execution_count": null,
      "outputs": [
        {
          "output_type": "stream",
          "name": "stdout",
          "text": [
            "Vamos calcular a média!\n",
            "Digite o primeiro número 10\n",
            "Digite o segundo número 20\n",
            "A média de 10 e 20 é 15.0\n"
          ]
        }
      ]
    },
    {
      "cell_type": "markdown",
      "source": [
        "6 - João e Clara foram à loja e compraram itens de diferentes categorias. João comprou 3 camisetas, cada uma custando 20 reais, e Clara comprou 2 calças, cada uma custando 40 reais.\n",
        "\n",
        "   - Calcule e exiba o total gasto por João\n",
        "   - Calcule e exiba o total gasto por Clara\n",
        "   - Calcule e exiba o total gasto combinado"
      ],
      "metadata": {
        "id": "YfNb1N0k1IEz"
      }
    },
    {
      "cell_type": "code",
      "source": [
        "QtdCms = int(3)\n",
        "QtdClc = int(2)\n",
        "\n",
        "PrcCms = int(20)\n",
        "PrcClc = int(40)\n",
        "\n",
        "GstJoao = (PrcCms*QtdCms)\n",
        "GstClara = (PrcClc*QtdClc)\n",
        "GstTotal = (GstJoao+GstClara)\n",
        "\n",
        "print(\"Gasto do Joao: \",GstJoao)\n",
        "print(\"Gasto da Clara: \",GstClara)\n",
        "print(\"Gasto Total: \",GstTotal)"
      ],
      "metadata": {
        "colab": {
          "base_uri": "https://localhost:8080/"
        },
        "id": "SfEktfFn58L-",
        "outputId": "a212271c-80b7-4203-a173-462ced4f1df2"
      },
      "execution_count": null,
      "outputs": [
        {
          "output_type": "stream",
          "name": "stdout",
          "text": [
            "Gasto do Joao:  60\n",
            "Gasto da Clara:  80\n",
            "Gasto Total:  140\n"
          ]
        }
      ]
    },
    {
      "cell_type": "code",
      "source": [
        "#Gatos joão\n",
        "\n",
        "g_joão = 3*20\n",
        "g_clara = 2*40\n",
        "\n",
        "print(f'O João gostou R${g_joão}, a Clara gastou R${g_clara}, e o total foi R${g_joão+g_clara}')"
      ],
      "metadata": {
        "colab": {
          "base_uri": "https://localhost:8080/"
        },
        "id": "qd56XyLc7saf",
        "outputId": "83e97e1e-214f-4966-e92b-ae84818acc45"
      },
      "execution_count": null,
      "outputs": [
        {
          "output_type": "stream",
          "name": "stdout",
          "text": [
            "O João gostou R$60, a Clara gastou R$80, e o total foi R$140\n"
          ]
        }
      ]
    },
    {
      "cell_type": "markdown",
      "source": [
        "7 - Crie um programa que solicite ao usuário três números inteiros e realize as seguintes operações:\n",
        "\n",
        " - Calcule o produto (multiplicação) do dobro do primeiro número pela metade do segundo número.\n",
        " - Calcule a soma do triplo do primeiro número com o terceiro número.\n",
        " - Calcule o valor do terceiro número elevado ao cubo."
      ],
      "metadata": {
        "id": "NX0DwO9ox0u-"
      }
    },
    {
      "cell_type": "code",
      "source": [
        "numero1=int(input('digite um numero inteiro'))\n",
        "numero2=int(input('digite um numero inteiro'))\n",
        "numero3=int(input('digite um numero inteiro'))\n",
        "resultado1=(numero1*2)*(numero2//2)\n",
        "resultado2=(numero1*3)+ numero3\n",
        "resultado3= numero3**3\n",
        "print(f'{resultado1}\\n{resultado2}\\n{resultado3}')"
      ],
      "metadata": {
        "colab": {
          "base_uri": "https://localhost:8080/"
        },
        "id": "ut9stphm8aLg",
        "outputId": "1fcb8842-fba5-486c-84dc-8c5245a470e3"
      },
      "execution_count": null,
      "outputs": [
        {
          "output_type": "stream",
          "name": "stdout",
          "text": [
            "digite um numero inteiro4\n",
            "digite um numero inteiro5\n",
            "digite um numero inteiro6\n",
            "16\n",
            "18\n",
            "216\n"
          ]
        }
      ]
    },
    {
      "cell_type": "markdown",
      "source": [
        "8 - Pesquise sobre as funções **upper()** e **lower()** em Python. Essas funções são utilizadas para manipular strings. Em seguida:\n",
        " - Crie um programa em Python que peça ao usuário para digitar uma frase.\n",
        " - Em seguida, use as funções pesquisadas anteriormente para manipular a entrada do usuário.\n",
        " - Exiba o resultado dessas duas funções aplicadas à frase digitada pelo usuário."
      ],
      "metadata": {
        "id": "USVDKe6d35S3"
      }
    },
    {
      "cell_type": "code",
      "source": [
        "print(f\" \\n {input('Escreva uma frase: ').upper()}\")\n",
        "print(f\" \\n {input('Escreva uma frase: ').lower()}\")"
      ],
      "metadata": {
        "colab": {
          "base_uri": "https://localhost:8080/"
        },
        "id": "i1HtpfYl-8gI",
        "outputId": "3b2b4a4e-4ae2-4db4-8c1d-f411b3f24db0"
      },
      "execution_count": null,
      "outputs": [
        {
          "output_type": "stream",
          "name": "stdout",
          "text": [
            "Escreva uma frase: teste\n",
            " \n",
            " TESTE\n",
            "Escreva uma frase: TESTE\n",
            " \n",
            " teste\n"
          ]
        }
      ]
    },
    {
      "cell_type": "markdown",
      "source": [],
      "metadata": {
        "id": "OE43Bfqc_fYK"
      }
    }
  ]
}