{
  "nbformat": 4,
  "nbformat_minor": 0,
  "metadata": {
    "colab": {
      "provenance": [],
      "include_colab_link": true
    },
    "kernelspec": {
      "name": "python3",
      "display_name": "Python 3"
    },
    "language_info": {
      "name": "python"
    }
  },
  "cells": [
    {
      "cell_type": "markdown",
      "metadata": {
        "id": "view-in-github",
        "colab_type": "text"
      },
      "source": [
        "<a href=\"https://colab.research.google.com/github/apeetec/Python/blob/main/Aula3.ipynb\" target=\"_parent\"><img src=\"https://colab.research.google.com/assets/colab-badge.svg\" alt=\"Open In Colab\"/></a>"
      ]
    },
    {
      "cell_type": "markdown",
      "source": [
        "**1 - Implemente um algoritmo que leia um número float do usuário, calcule seu quadrado e imprima o resultado.**"
      ],
      "metadata": {
        "id": "xYPdEr1pUPTl"
      }
    },
    {
      "cell_type": "code",
      "source": [
        "n1 = float(input('Digite o primeiro número: '))\n",
        "n1 *= n1\n",
        "print(f'O resultado é:', n1)"
      ],
      "metadata": {
        "colab": {
          "base_uri": "https://localhost:8080/"
        },
        "id": "qtKDr93Fwemh",
        "outputId": "cb21d969-fde1-47ec-8f2e-c2b63883f351"
      },
      "execution_count": null,
      "outputs": [
        {
          "output_type": "stream",
          "name": "stdout",
          "text": [
            "Digite o primeiro número: 6.5\n",
            "O resultado é: 42.25\n"
          ]
        }
      ]
    },
    {
      "cell_type": "markdown",
      "source": [
        "**2 - Peça ao usuário para inserir dois números com casas decimais e mostre a soma desses números.**"
      ],
      "metadata": {
        "id": "ZU2C1gYEUvXc"
      }
    },
    {
      "cell_type": "code",
      "source": [
        "n1 = float(input('Digite o primeiro número: '))\n",
        "n2 = float(input('Digite o segundo número: '))\n",
        "calculo = n1 + n2\n",
        "print(f'O resultado é {n1 + n2}')"
      ],
      "metadata": {
        "id": "6yzTh-QRGBqa",
        "colab": {
          "base_uri": "https://localhost:8080/"
        },
        "outputId": "c455d35d-050f-4443-8c38-13a66013fed0"
      },
      "execution_count": null,
      "outputs": [
        {
          "output_type": "stream",
          "name": "stdout",
          "text": [
            "Digite o primeiro número: 2\n",
            "Digite o segundo número: 2\n",
            "O resultado é 4.0\n"
          ]
        }
      ]
    },
    {
      "cell_type": "markdown",
      "source": [],
      "metadata": {
        "id": "t6qgSDvVGfnB"
      }
    },
    {
      "cell_type": "markdown",
      "source": [
        "**3 - Peça ao usuário para inserir uma temperatura em Celsius e converta essa temperatura para Fahrenheit.**"
      ],
      "metadata": {
        "id": "lnszRaFeU_NL"
      }
    },
    {
      "cell_type": "code",
      "source": [
        "n1 = float(input('Insira a temperatura Celsius:'))\n",
        "fahrenheit = (n1 * 1.8) + 32\n",
        "print(f'A temperatura é de: {fahrenheit}')"
      ],
      "metadata": {
        "colab": {
          "base_uri": "https://localhost:8080/"
        },
        "id": "GFyuMfvkxgAS",
        "outputId": "ffcca1ad-18e2-4ac7-b299-a1655815069d"
      },
      "execution_count": null,
      "outputs": [
        {
          "output_type": "stream",
          "name": "stdout",
          "text": [
            "Insira a temperatura Celsius:25\n",
            "A temperatura é de: 77.0\n"
          ]
        }
      ]
    },
    {
      "cell_type": "markdown",
      "source": [
        "**4 - Peça ao aluno para inserir suas notas em quatro matérias e calcule a média dessas notas.**"
      ],
      "metadata": {
        "id": "uYCJRuPCVFi_"
      }
    },
    {
      "cell_type": "code",
      "source": [
        "n1 = float(input('Digite a primeira nota: '))\n",
        "n2 = float(input('Digite a segunda nota: '))\n",
        "n3 = float(input('Digite a terceira nota: '))\n",
        "n4 = float(input('Digite a quarta nota: '))\n",
        "media = (n1+n2+n3+n4) / 4\n",
        "print(f'Sua média é: {media}')"
      ],
      "metadata": {
        "colab": {
          "base_uri": "https://localhost:8080/"
        },
        "id": "j5Ig66hZibND",
        "outputId": "830229f1-c4c8-4e0c-a392-0f99e96fe4de"
      },
      "execution_count": null,
      "outputs": [
        {
          "output_type": "stream",
          "name": "stdout",
          "text": [
            "Digite a primeira nota: 10\n",
            "Digite a segunda nota: 10\n",
            "Digite a terceira nota: 10\n",
            "Digite a quarta nota: 10\n",
            "Sua média é: 10.0\n"
          ]
        }
      ]
    },
    {
      "cell_type": "markdown",
      "source": [
        "**5 - Peça ao usuário para inserir a largura e a altura de um retângulo e calcule a área.**"
      ],
      "metadata": {
        "id": "wyDX8Iw7VSC2"
      }
    },
    {
      "cell_type": "code",
      "source": [
        "largura = float(input('Digite a largura:'))\n",
        "altura = float(input('Digite a altura:'))\n",
        "print(f'O cálculo da área é de:',round(largura * altura))"
      ],
      "metadata": {
        "colab": {
          "base_uri": "https://localhost:8080/"
        },
        "id": "wZ22vRWnvQlX",
        "outputId": "d27d4253-9063-4384-88ab-565656fdd1dc"
      },
      "execution_count": null,
      "outputs": [
        {
          "output_type": "stream",
          "name": "stdout",
          "text": [
            "Digite a largura:55.7\n",
            "Digite a altura:30.9\n",
            "O cálculo da área é de: 1721\n"
          ]
        }
      ]
    },
    {
      "cell_type": "markdown",
      "source": [
        "**6 - Peça ao usuário para inserir dois números e exiba o resto da divisão entre eles.**"
      ],
      "metadata": {
        "id": "8ACef1mvVn4N"
      }
    },
    {
      "cell_type": "code",
      "source": [
        "n1 = float(input('Digite o primeiro número: '))\n",
        "n2 = float(input('Digite o segundo número: '))\n",
        "calculo = (n1 + n2) % 2\n",
        "print(f'O resto da divisão é: {calculo}')"
      ],
      "metadata": {
        "colab": {
          "base_uri": "https://localhost:8080/"
        },
        "id": "kywpTK44jKCL",
        "outputId": "091fa409-b0fb-4fe3-eb46-ba80f722b639"
      },
      "execution_count": null,
      "outputs": [
        {
          "output_type": "stream",
          "name": "stdout",
          "text": [
            "Digite o primeiro número: 4\n",
            "Digite o segundo número: 9\n",
            "O resto da divisão é: 1.0\n"
          ]
        }
      ]
    },
    {
      "cell_type": "markdown",
      "source": [
        "**7 - Escreva um programa que calcula a área do círculo. O programa deve pedir ao usuário que entre com o valor do raio. Em seguida o programa deve imprimir uma mensagem com a resposta.**"
      ],
      "metadata": {
        "id": "XpK5DoverFIt"
      }
    },
    {
      "cell_type": "code",
      "source": [
        "raio = float(input('Insira o valor do raio: '))\n",
        "pi = 3.14\n",
        "area = pi * (raio ** 2)\n",
        "print(f'O valor da área é de: ')"
      ],
      "metadata": {
        "id": "toEoluO6ykda",
        "colab": {
          "base_uri": "https://localhost:8080/",
          "height": 356
        },
        "outputId": "6414ec35-f4df-4b78-ebb5-0f4a82b162cd"
      },
      "execution_count": null,
      "outputs": [
        {
          "output_type": "error",
          "ename": "KeyboardInterrupt",
          "evalue": "Interrupted by user",
          "traceback": [
            "\u001b[0;31m---------------------------------------------------------------------------\u001b[0m",
            "\u001b[0;31mKeyboardInterrupt\u001b[0m                         Traceback (most recent call last)",
            "\u001b[0;32m<ipython-input-59-7d1942c5e68d>\u001b[0m in \u001b[0;36m<cell line: 0>\u001b[0;34m()\u001b[0m\n\u001b[0;32m----> 1\u001b[0;31m \u001b[0mraio\u001b[0m \u001b[0;34m=\u001b[0m \u001b[0mfloat\u001b[0m\u001b[0;34m(\u001b[0m\u001b[0minput\u001b[0m\u001b[0;34m(\u001b[0m\u001b[0;34m'Insira o valor do raio: '\u001b[0m\u001b[0;34m)\u001b[0m\u001b[0;34m)\u001b[0m\u001b[0;34m\u001b[0m\u001b[0;34m\u001b[0m\u001b[0m\n\u001b[0m\u001b[1;32m      2\u001b[0m \u001b[0mm\u001b[0m \u001b[0;34m=\u001b[0m \u001b[0;36m2\u001b[0m\u001b[0;34m\u001b[0m\u001b[0;34m\u001b[0m\u001b[0m\n\u001b[1;32m      3\u001b[0m \u001b[0mpi\u001b[0m \u001b[0;34m=\u001b[0m \u001b[0;36m3.14\u001b[0m\u001b[0;34m\u001b[0m\u001b[0;34m\u001b[0m\u001b[0m\n\u001b[1;32m      4\u001b[0m \u001b[0marea\u001b[0m \u001b[0;34m=\u001b[0m \u001b[0mpi\u001b[0m \u001b[0;34m*\u001b[0m \u001b[0;34m(\u001b[0m\u001b[0mraio\u001b[0m \u001b[0;34m**\u001b[0m \u001b[0;36m2\u001b[0m\u001b[0;34m)\u001b[0m\u001b[0;34m\u001b[0m\u001b[0;34m\u001b[0m\u001b[0m\n\u001b[1;32m      5\u001b[0m \u001b[0mprint\u001b[0m\u001b[0;34m(\u001b[0m\u001b[0;34mf'O valor da área é de: '\u001b[0m\u001b[0;34m)\u001b[0m\u001b[0;34m\u001b[0m\u001b[0;34m\u001b[0m\u001b[0m\n",
            "\u001b[0;32m/usr/local/lib/python3.11/dist-packages/ipykernel/kernelbase.py\u001b[0m in \u001b[0;36mraw_input\u001b[0;34m(self, prompt)\u001b[0m\n\u001b[1;32m   1175\u001b[0m                 \u001b[0;34m\"raw_input was called, but this frontend does not support input requests.\"\u001b[0m\u001b[0;34m\u001b[0m\u001b[0;34m\u001b[0m\u001b[0m\n\u001b[1;32m   1176\u001b[0m             )\n\u001b[0;32m-> 1177\u001b[0;31m         return self._input_request(\n\u001b[0m\u001b[1;32m   1178\u001b[0m             \u001b[0mstr\u001b[0m\u001b[0;34m(\u001b[0m\u001b[0mprompt\u001b[0m\u001b[0;34m)\u001b[0m\u001b[0;34m,\u001b[0m\u001b[0;34m\u001b[0m\u001b[0;34m\u001b[0m\u001b[0m\n\u001b[1;32m   1179\u001b[0m             \u001b[0mself\u001b[0m\u001b[0;34m.\u001b[0m\u001b[0m_parent_ident\u001b[0m\u001b[0;34m[\u001b[0m\u001b[0;34m\"shell\"\u001b[0m\u001b[0;34m]\u001b[0m\u001b[0;34m,\u001b[0m\u001b[0;34m\u001b[0m\u001b[0;34m\u001b[0m\u001b[0m\n",
            "\u001b[0;32m/usr/local/lib/python3.11/dist-packages/ipykernel/kernelbase.py\u001b[0m in \u001b[0;36m_input_request\u001b[0;34m(self, prompt, ident, parent, password)\u001b[0m\n\u001b[1;32m   1217\u001b[0m             \u001b[0;32mexcept\u001b[0m \u001b[0mKeyboardInterrupt\u001b[0m\u001b[0;34m:\u001b[0m\u001b[0;34m\u001b[0m\u001b[0;34m\u001b[0m\u001b[0m\n\u001b[1;32m   1218\u001b[0m                 \u001b[0;31m# re-raise KeyboardInterrupt, to truncate traceback\u001b[0m\u001b[0;34m\u001b[0m\u001b[0;34m\u001b[0m\u001b[0m\n\u001b[0;32m-> 1219\u001b[0;31m                 \u001b[0;32mraise\u001b[0m \u001b[0mKeyboardInterrupt\u001b[0m\u001b[0;34m(\u001b[0m\u001b[0;34m\"Interrupted by user\"\u001b[0m\u001b[0;34m)\u001b[0m \u001b[0;32mfrom\u001b[0m \u001b[0;32mNone\u001b[0m\u001b[0;34m\u001b[0m\u001b[0;34m\u001b[0m\u001b[0m\n\u001b[0m\u001b[1;32m   1220\u001b[0m             \u001b[0;32mexcept\u001b[0m \u001b[0mException\u001b[0m\u001b[0;34m:\u001b[0m\u001b[0;34m\u001b[0m\u001b[0;34m\u001b[0m\u001b[0m\n\u001b[1;32m   1221\u001b[0m                 \u001b[0mself\u001b[0m\u001b[0;34m.\u001b[0m\u001b[0mlog\u001b[0m\u001b[0;34m.\u001b[0m\u001b[0mwarning\u001b[0m\u001b[0;34m(\u001b[0m\u001b[0;34m\"Invalid Message:\"\u001b[0m\u001b[0;34m,\u001b[0m \u001b[0mexc_info\u001b[0m\u001b[0;34m=\u001b[0m\u001b[0;32mTrue\u001b[0m\u001b[0;34m)\u001b[0m\u001b[0;34m\u001b[0m\u001b[0;34m\u001b[0m\u001b[0m\n",
            "\u001b[0;31mKeyboardInterrupt\u001b[0m: Interrupted by user"
          ]
        }
      ]
    },
    {
      "cell_type": "markdown",
      "source": [
        "**8 - Faça um programa que peça dois números reais e um número inteiro (Acima de Zero). Calcule e mostre:**\n",
        "\n",
        "1. A soma do primeiro número com o segundo número, multiplicada pelo número inteiro. Arredonde utilizando **round()**\n",
        "2. A diferença entre o primeiro número e o segundo número, elevada ao quadrado. Arredonde utilizando **format()**\n",
        "3. O número inteiro multiplicado pelo primeiro número, dividido pelo segundo número. Arredonde com o operador Aritmético **//**\n"
      ],
      "metadata": {
        "id": "1MrkJBi6vzNK"
      }
    },
    {
      "cell_type": "code",
      "source": [
        "n1 = float(input('Digite o primeiro número real: '))\n",
        "n2 = float(input('Digite o segundo número real: '))\n",
        "n3 = float(input('Digite o terceiro número inteiro: '))\n",
        "print(f'O primeiro resultado arredondado é de: ',round((n1+n2) * n3))\n",
        "calculo = (n1 - n2)\n",
        "#calculo *= calculo\n",
        "quadrado = pow(calculo, 2)\n",
        "print(f'O quadrado da diferença entre o primeiro e o segundo número é{quadrado: .3f}')\n",
        "#print(f'O quadrado da diferença entre o primeiro e o segundo número é: {pow(calculo,2)}')\n",
        "#print(f'O quadrado da diferença entre o primeiro e o segundo número é: {((n1 -n2)**2)}')\n",
        "print(f'O número arredondado é de :', (n3 * n1)//n2)"
      ],
      "metadata": {
        "colab": {
          "base_uri": "https://localhost:8080/"
        },
        "id": "1Kgj4ClJkpiC",
        "outputId": "145e7d21-fe1d-41d0-a6df-2c6f20dcd567"
      },
      "execution_count": null,
      "outputs": [
        {
          "output_type": "stream",
          "name": "stdout",
          "text": [
            "Digite o primeiro número real: 2.7\n",
            "Digite o segundo número real: 3.5\n",
            "Digite o terceiro número inteiro: 20\n",
            "O primeiro resultado arredondado é de:  124\n",
            "O quadrado da diferença entre o primeiro e o segundo número é 0.640\n",
            "O número arredondado é de : 15.0\n"
          ]
        }
      ]
    },
    {
      "cell_type": "markdown",
      "source": [
        "**9 - Escreva um programa que calcula o consumo de gasolina de uma carro em quilômetros por litro. O programa deve pedir ao usuário que entre com o número de quilômetros percorridos e o número de litros de gasolina consumidos. Em seguida o programa deve imprimir a resposta.**"
      ],
      "metadata": {
        "id": "TFnSLpD4yv55"
      }
    },
    {
      "cell_type": "code",
      "source": [
        "n1 = float(input('Digite a kilometragem: '))\n",
        "n2 = float(input('Digite a quantidade de litros: '))\n",
        "kilometros = n1 * 1000\n",
        "gasolina = n2 * 1000\n",
        "consumo = kilometros / gasolina\n",
        "print(f'O consumo é de: {consumo}')"
      ],
      "metadata": {
        "id": "gaF5rOZB1PNh",
        "colab": {
          "base_uri": "https://localhost:8080/"
        },
        "outputId": "c8b0c9af-9ac1-4d36-88d0-a943f9ec9dff"
      },
      "execution_count": null,
      "outputs": [
        {
          "output_type": "stream",
          "name": "stdout",
          "text": [
            "Digite a kilometragem: 10\n",
            "Digite a quantidade de litros: 2\n",
            "O consumo é de: 5.0\n"
          ]
        }
      ]
    },
    {
      "cell_type": "markdown",
      "source": [
        "10 - Faça um Programa que pergunte quanto você ganha por hora e o número de horas trabalhadas no mês. Calcule e mostre o total do seu salário no referido mês, sabendo-se que são descontados 11% para o Imposto de Renda, 8% para o INSS e 5% para o sindicato, faça um programa que nos dê:**\n",
        " - salário bruto.\n",
        " - quanto pagou ao INSS.\n",
        " - quanto pagou ao sindicato.\n",
        " - o salário líquido."
      ],
      "metadata": {
        "id": "xUGRDu9lqs1K"
      }
    }
  ]
}