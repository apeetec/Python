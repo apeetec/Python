{
  "nbformat": 4,
  "nbformat_minor": 0,
  "metadata": {
    "colab": {
      "provenance": [],
      "authorship_tag": "ABX9TyOpZvTmESKYmpzvTPVSgkWZ",
      "include_colab_link": true
    },
    "kernelspec": {
      "name": "python3",
      "display_name": "Python 3"
    },
    "language_info": {
      "name": "python"
    }
  },
  "cells": [
    {
      "cell_type": "markdown",
      "metadata": {
        "id": "view-in-github",
        "colab_type": "text"
      },
      "source": [
        "<a href=\"https://colab.research.google.com/github/apeetec/Python/blob/main/Exercicio.ipynb\" target=\"_parent\"><img src=\"https://colab.research.google.com/assets/colab-badge.svg\" alt=\"Open In Colab\"/></a>"
      ]
    },
    {
      "cell_type": "code",
      "execution_count": null,
      "metadata": {
        "id": "HmSSFcJ1Quw6"
      },
      "outputs": [],
      "source": []
    },
    {
      "cell_type": "code",
      "source": [
        "\n",
        "\"\"\"Informações de entrada do usuário \"\"\"\n",
        "print('Sejam bem vindo, preencha os dados abaixo')\n",
        "nome = input('Digite seu nome ')\n",
        "email = input('Digite seu e-mail ')\n",
        "\"\"\" fim das informações de entrada do usuário \"\"\"\n",
        "\n",
        "\"\"\" Loop de repetição que verifica se o e-mail foi preenchido \"\"\"\n",
        "while email == '':\n",
        "    print('O campo de e-mail é obrigatório')\n",
        "    email = input('Digite seu e-mail: ')\n",
        "\"\"\" fim do loop de repetição que verifica se o e-mail foi preenchido \"\"\""
      ],
      "metadata": {
        "id": "875cjyyYaqf8"
      },
      "execution_count": null,
      "outputs": []
    },
    {
      "cell_type": "code",
      "source": [
        "\"\"\" Inicio\n",
        "1 - Criar uma variável que receba o primeiro número do usuário\n",
        "2- Criar uma variável que receba o segundo número do usuário\n",
        "3 - Criar um variável com o nome \"calculo\" que faça o cálculo do primeiro com o segundo número\n",
        "4 - Imprimir o resultado da variável cálculo para o usuário com a mensagem à sua escolha\n",
        "\"\"\""
      ],
      "metadata": {
        "id": "7AgloFtua7iq"
      },
      "execution_count": null,
      "outputs": []
    }
  ]
}